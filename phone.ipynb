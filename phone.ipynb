{
  "nbformat": 4,
  "nbformat_minor": 0,
  "metadata": {
    "colab": {
      "provenance": [],
      "mount_file_id": "https://github.com/Ilhamlafeer/mobile-price-classification/blob/main/phone.ipynb",
      "authorship_tag": "ABX9TyOHBGfPPVMiNM3UlF+7/T/u"
    },
    "kernelspec": {
      "name": "python3",
      "display_name": "Python 3"
    },
    "language_info": {
      "name": "python"
    }
  },
  "cells": [
    {
      "cell_type": "code",
      "source": [
        "import pandas as pd"
      ],
      "metadata": {
        "id": "mLc8GDcq0gtc"
      },
      "execution_count": null,
      "outputs": []
    },
    {
      "cell_type": "code",
      "source": [
        "url = \"/content/Mobile_Price_Classification-220531-204702.csv\""
      ],
      "metadata": {
        "id": "B83gnEyY1JHm"
      },
      "execution_count": null,
      "outputs": []
    },
    {
      "cell_type": "code",
      "source": [
        "df = pd.read_csv(url)\n",
        "df.head()"
      ],
      "metadata": {
        "id": "HFH-zn2M1PO_"
      },
      "execution_count": null,
      "outputs": []
    },
    {
      "cell_type": "code",
      "source": [
        "x = df.drop([\"price_range\"], axis=1)\n",
        "y = df['price_range']"
      ],
      "metadata": {
        "id": "oKeLRuT-2zvQ"
      },
      "execution_count": null,
      "outputs": []
    },
    {
      "cell_type": "code",
      "source": [
        "print(y)"
      ],
      "metadata": {
        "id": "c-cpLjjI3Dmo"
      },
      "execution_count": null,
      "outputs": []
    },
    {
      "cell_type": "code",
      "source": [
        "from sklearn.model_selection import train_test_split\n",
        "x_train, x_test, y_train, y_test = train_test_split(x, y, test_size=0.25)"
      ],
      "metadata": {
        "id": "L1WLn2Ci3W3l"
      },
      "execution_count": null,
      "outputs": []
    },
    {
      "cell_type": "code",
      "source": [
        "from keras.models import Sequential, load_model\n"
      ],
      "metadata": {
        "id": "EKVxX80_4Ta9"
      },
      "execution_count": null,
      "outputs": []
    },
    {
      "cell_type": "code",
      "source": [
        "from keras.layers import Dense, Dropout\n",
        "model = Sequential()"
      ],
      "metadata": {
        "id": "x7jimGgp6HZ5"
      },
      "execution_count": null,
      "outputs": []
    },
    {
      "cell_type": "code",
      "source": [
        "model.add(Dense(units=64, activation='relu', input_dim=len(x_train.columns)))"
      ],
      "metadata": {
        "id": "X-T8qtg_6Sat"
      },
      "execution_count": null,
      "outputs": []
    },
    {
      "cell_type": "code",
      "source": [
        "model.add(Dense(units=32, activation='relu'))"
      ],
      "metadata": {
        "id": "95V5RVCa6wsz"
      },
      "execution_count": null,
      "outputs": []
    },
    {
      "cell_type": "code",
      "source": [
        "model.add(Dense(units=1, activation='sigmoid'))"
      ],
      "metadata": {
        "id": "d8JyYiIG7fsn"
      },
      "execution_count": null,
      "outputs": []
    },
    {
      "cell_type": "code",
      "source": [
        "model.summary()"
      ],
      "metadata": {
        "id": "AVkF-y27wWOT"
      },
      "execution_count": null,
      "outputs": []
    },
    {
      "cell_type": "code",
      "source": [
        "model.compile(loss='binary_crossentropy', optimizer='adam', metrics=['accuracy'])"
      ],
      "metadata": {
        "id": "kwKz6FJz78xy"
      },
      "execution_count": null,
      "outputs": []
    },
    {
      "cell_type": "code",
      "source": [
        "model.fit(x_train, y_train, validation_data=(x_test,y_test), epochs=200, batch_size=32)"
      ],
      "metadata": {
        "id": "PUn8WhBwwPzy"
      },
      "execution_count": null,
      "outputs": []
    },
    {
      "cell_type": "code",
      "source": [
        "model.save('weights.keras')"
      ],
      "metadata": {
        "id": "Mfjm_s8p9wqL"
      },
      "execution_count": null,
      "outputs": []
    }
  ]
}