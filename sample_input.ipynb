{
  "nbformat": 4,
  "nbformat_minor": 0,
  "metadata": {
    "colab": {
      "provenance": [],
      "mount_file_id": "1tm2MFn6VblSna_uUDwxtLc5QTLdQF8z9",
      "authorship_tag": "ABX9TyPVOHanCnP0E4nlzhAOTqAu"
    },
    "kernelspec": {
      "name": "python3",
      "display_name": "Python 3"
    },
    "language_info": {
      "name": "python"
    }
  },
  "cells": [
    {
      "cell_type": "code",
      "execution_count": 5,
      "metadata": {
        "id": "QHBd_XAwzXfb"
      },
      "outputs": [],
      "source": [
        "from keras.models import load_model\n",
        "import numpy as np"
      ]
    },
    {
      "cell_type": "code",
      "source": [
        "model = load_model(\"/content/drive/MyDrive/Colab Notebooks/phone price/weights.keras\")"
      ],
      "metadata": {
        "id": "K2vlmvbO2hm8"
      },
      "execution_count": null,
      "outputs": []
    },
    {
      "cell_type": "code",
      "source": [
        "sample_input1 = np.array([[2500,1,1.2,0,13,1,64,0.6,141,2,14,1208,1212,1411,8,2,15,1,1,0]])\n",
        "sample_input2 = np.array([[1500, 1, 2.0, 1, 16, 1, 500, 1.5, 200, 3, 15, 2500, 2500, 3000, 12, 2, 20, 1, 1, 1]])"
      ],
      "metadata": {
        "id": "q77egY6C2q3n"
      },
      "execution_count": 26,
      "outputs": []
    },
    {
      "cell_type": "code",
      "source": [
        "inputs = [sample_input1, sample_input2]\n",
        "i = 0\n",
        "\n",
        "while i < len(inputs):\n",
        "    prediction = model.predict(inputs[i])\n",
        "    print(f\"Predicted probability for input{i+1}: {prediction[0][0]}\")\n",
        "\n",
        "    predicted_class = 1 if prediction[0][0] >= 0.5 else 0\n",
        "    print(f\"Predicted Price Range Class for input{i+1}: {predicted_class}\")\n",
        "\n",
        "    i += 1"
      ],
      "metadata": {
        "colab": {
          "base_uri": "https://localhost:8080/"
        },
        "id": "sCwHSzV_2zqS",
        "outputId": "e5b729c4-b3ba-42ea-c93f-69d7b4a211c8"
      },
      "execution_count": 27,
      "outputs": [
        {
          "output_type": "stream",
          "name": "stdout",
          "text": [
            "\u001b[1m1/1\u001b[0m \u001b[32m━━━━━━━━━━━━━━━━━━━━\u001b[0m\u001b[37m\u001b[0m \u001b[1m0s\u001b[0m 64ms/step\n",
            "Predicted probability for input1: 0.0\n",
            "Predicted Price Range Class for input1: 0\n",
            "\u001b[1m1/1\u001b[0m \u001b[32m━━━━━━━━━━━━━━━━━━━━\u001b[0m\u001b[37m\u001b[0m \u001b[1m0s\u001b[0m 59ms/step\n",
            "Predicted probability for input2: 1.0\n",
            "Predicted Price Range Class for input2: 1\n"
          ]
        }
      ]
    }
  ]
}